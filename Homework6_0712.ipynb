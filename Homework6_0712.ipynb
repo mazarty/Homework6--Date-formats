{
 "cells": [
  {
   "cell_type": "code",
   "execution_count": 11,
   "metadata": {},
   "outputs": [
    {
     "name": "stdout",
     "output_type": "stream",
     "text": [
      "2002-10-02 00:00:00\n",
      "2013-10-11 00:00:00\n",
      "1977-08-18 00:00:00\n"
     ]
    }
   ],
   "source": [
    "#задание1\n",
    "# Печатные газеты использовали свой формат дат для каждого выпуска. Для каждой газеты из списка \n",
    "# напишите формат указанной даты для перевода в объект datetime:\n",
    "# The Moscow Times - Wednesday, October 2, 2002\n",
    "# The Guardian - Friday, 11.10.13\n",
    "# Daily News - Thursday, 18 August 1977\n",
    "from datetime import datetime\n",
    "\n",
    "str1 = 'Wednesday, October 2, 2002'\n",
    "str2 = 'Friday, 11.10.13'\n",
    "str3 = 'Thursday, 18 August 1977'\n",
    "\n",
    "d1 = datetime.strptime(str1, '%A, %B %d, %Y')\n",
    "d2 = datetime.strptime(str2, '%A, %d.%m.%y')\n",
    "d3 = datetime.strptime(str3, '%A, %d %B %Y')\n",
    "\n",
    "print(d1)\n",
    "print(d2)\n",
    "print(d3)"
   ]
  },
  {
   "cell_type": "code",
   "execution_count": 26,
   "metadata": {},
   "outputs": [
    {
     "name": "stdout",
     "output_type": "stream",
     "text": [
      "date = 2018-04-02 format is True\n",
      "date = 2018-02-29 format is False\n",
      "date = 2018-19-02 format is False\n"
     ]
    }
   ],
   "source": [
    "# Задание 2\n",
    "# Дан поток дат в формате YYYY-MM-DD, в которых встречаются некорректные значения:\n",
    "# Напишите функцию, которая проверяет эти даты на корректность. \n",
    "# Т. е. для каждой даты возвращает True (дата корректна) или False (некорректная дата).\n",
    "\n",
    "from datetime import datetime\n",
    "\n",
    "stream = ['2018-04-02', '2018-02-29', '2018-19-02']\n",
    "  \n",
    "def dt_check (dt):\n",
    "        try: \n",
    "            datetime.strptime (dt,'%Y-%m-%d')\n",
    "            return True\n",
    "        except:\n",
    "            return False\n",
    "\n",
    "for dt in stream:\n",
    "    print(f'date = {dt} format is {dt_check (dt)}')\n",
    "            "
   ]
  },
  {
   "cell_type": "code",
   "execution_count": 55,
   "metadata": {
    "scrolled": true
   },
   "outputs": [
    {
     "name": "stdout",
     "output_type": "stream",
     "text": [
      "Список дат:\n"
     ]
    },
    {
     "data": {
      "text/plain": [
       "['2018-04-11',\n",
       " '2018-04-12',\n",
       " '2018-04-13',\n",
       " '2018-04-14',\n",
       " '2018-04-15',\n",
       " '2018-04-16',\n",
       " '2018-04-17',\n",
       " '2018-04-18',\n",
       " '2018-04-19',\n",
       " '2018-04-20',\n",
       " '2018-04-21',\n",
       " '2018-04-22',\n",
       " '2018-04-23',\n",
       " '2018-04-24',\n",
       " '2018-04-25',\n",
       " '2018-04-26',\n",
       " '2018-04-27',\n",
       " '2018-04-28',\n",
       " '2018-04-29']"
      ]
     },
     "execution_count": 55,
     "metadata": {},
     "output_type": "execute_result"
    }
   ],
   "source": [
    "# Задание 3\n",
    "# Напишите функцию date_range, которая возвращает список дат за период от start_date до end_date. \n",
    "# Даты должны вводиться в формате YYYY-MM-DD. В случае неверного формата или при start_date > end_date \n",
    "# должен возвращаться пустой список.\n",
    "\n",
    "from datetime import datetime\n",
    "from datetime import timedelta\n",
    "\n",
    "def date_range (start_dt, end_dt):\n",
    "    list_res = []\n",
    "    if start_dt > end_dt: return list_res #обработка случая start_date > end_date\n",
    "    try: st_dt = datetime.strptime (start_dt,'%Y-%m-%d') #обработка некорректного формата даты начала\n",
    "    except: return list_res\n",
    "    try: en_dt = datetime.strptime (end_dt,'%Y-%m-%d') #обработка некорректного формата даты конца\n",
    "    except: return list_res\n",
    "    \n",
    "    delt = en_dt - st_dt\n",
    "    for i in range(delt.days + 1):\n",
    "        list_res.append((st_dt + timedelta(days = i)).strftime('%Y-%m-%d'))\n",
    "    return list_res\n",
    "\n",
    "print('Список дат:')\n",
    "date_range('2018-04-11', '2018-04-29')"
   ]
  },
  {
   "cell_type": "code",
   "execution_count": 67,
   "metadata": {},
   "outputs": [
    {
     "data": {
      "text/plain": [
       "'A101'"
      ]
     },
     "execution_count": 67,
     "metadata": {},
     "output_type": "execute_result"
    }
   ],
   "source": [
    "# Задание 4 (бонусное)\n",
    "# Ваш коллега прислал код функции. Однако, при повторном вызове получается ошибка IndexError: list index out of range.\n",
    "# Задание:\n",
    "# Что значит ошибка list index out of range?\n",
    "# Почему при первом запуске функция работает корректно, а при втором - нет?\n",
    "\n",
    "DEFAULT_USER_COUNT = 3\n",
    "\n",
    "def delete_and_return_last_user(region, default_list=['A100', 'A101', 'A102']):\n",
    "    element_to_delete = default_list[-1]\n",
    "    default_list.remove(element_to_delete)\n",
    "    return default_list[DEFAULT_USER_COUNT-2]\n",
    "\n",
    "delete_and_return_last_user(1) # ‘A101’ При однократном вызове этой функции все работает корректно\n"
   ]
  },
  {
   "cell_type": "code",
   "execution_count": 78,
   "metadata": {
    "scrolled": true
   },
   "outputs": [
    {
     "name": "stdout",
     "output_type": "stream",
     "text": [
      "DEFAULT_USER_COUNT: 3\n",
      "default_list step1: ['A100', 'A101', 'A102']\n",
      "element_to_delete: A102\n",
      "default_list step2: ['A100', 'A101']\n",
      "DEFAULT_USER_COUNT-2: 1\n",
      "FINISH\n",
      "\n",
      "DEFAULT_USER_COUNT: 3\n",
      "default_list step1: ['A100', 'A101']\n",
      "element_to_delete: A101\n",
      "default_list step2: ['A100']\n",
      "DEFAULT_USER_COUNT-2: 1\n",
      "FINISH\n",
      "\n"
     ]
    },
    {
     "ename": "IndexError",
     "evalue": "list index out of range",
     "output_type": "error",
     "traceback": [
      "\u001b[1;31m---------------------------------------------------------------------------\u001b[0m",
      "\u001b[1;31mIndexError\u001b[0m                                Traceback (most recent call last)",
      "\u001b[1;32m<ipython-input-78-12ae933bc62b>\u001b[0m in \u001b[0;36m<module>\u001b[1;34m\u001b[0m\n\u001b[0;32m     16\u001b[0m \u001b[1;33m\u001b[0m\u001b[0m\n\u001b[0;32m     17\u001b[0m \u001b[0mdelete_and_return_last_user\u001b[0m\u001b[1;33m(\u001b[0m\u001b[1;36m1\u001b[0m\u001b[1;33m)\u001b[0m \u001b[1;31m# ‘A101’ При однократном вызове этой функции все работает корректно\u001b[0m\u001b[1;33m\u001b[0m\u001b[1;33m\u001b[0m\u001b[0m\n\u001b[1;32m---> 18\u001b[1;33m \u001b[0mdelete_and_return_last_user\u001b[0m\u001b[1;33m(\u001b[0m\u001b[1;36m1\u001b[0m\u001b[1;33m)\u001b[0m\u001b[1;33m\u001b[0m\u001b[1;33m\u001b[0m\u001b[0m\n\u001b[0m",
      "\u001b[1;32m<ipython-input-78-12ae933bc62b>\u001b[0m in \u001b[0;36mdelete_and_return_last_user\u001b[1;34m(region, default_list)\u001b[0m\n\u001b[0;32m     13\u001b[0m     \u001b[0mprint\u001b[0m\u001b[1;33m(\u001b[0m\u001b[1;34m'FINISH'\u001b[0m\u001b[1;33m)\u001b[0m\u001b[1;33m\u001b[0m\u001b[1;33m\u001b[0m\u001b[0m\n\u001b[0;32m     14\u001b[0m     \u001b[0mprint\u001b[0m\u001b[1;33m(\u001b[0m\u001b[1;34m''\u001b[0m\u001b[1;33m)\u001b[0m\u001b[1;33m\u001b[0m\u001b[1;33m\u001b[0m\u001b[0m\n\u001b[1;32m---> 15\u001b[1;33m     \u001b[1;32mreturn\u001b[0m \u001b[0mdefault_list\u001b[0m\u001b[1;33m[\u001b[0m\u001b[0mDEFAULT_USER_COUNT\u001b[0m\u001b[1;33m-\u001b[0m\u001b[1;36m2\u001b[0m\u001b[1;33m]\u001b[0m\u001b[1;33m\u001b[0m\u001b[1;33m\u001b[0m\u001b[0m\n\u001b[0m\u001b[0;32m     16\u001b[0m \u001b[1;33m\u001b[0m\u001b[0m\n\u001b[0;32m     17\u001b[0m \u001b[0mdelete_and_return_last_user\u001b[0m\u001b[1;33m(\u001b[0m\u001b[1;36m1\u001b[0m\u001b[1;33m)\u001b[0m \u001b[1;31m# ‘A101’ При однократном вызове этой функции все работает корректно\u001b[0m\u001b[1;33m\u001b[0m\u001b[1;33m\u001b[0m\u001b[0m\n",
      "\u001b[1;31mIndexError\u001b[0m: list index out of range"
     ]
    }
   ],
   "source": [
    "#поиск ошибки\n",
    "DEFAULT_USER_COUNT = 3\n",
    "\n",
    "def delete_and_return_last_user(region, default_list=['A100', 'A101', 'A102']):\n",
    "    print('DEFAULT_USER_COUNT:', DEFAULT_USER_COUNT)\n",
    "    print('default_list step1:', default_list)\n",
    "    \n",
    "    element_to_delete = default_list[-1]\n",
    "    print('element_to_delete:',element_to_delete)\n",
    "    \n",
    "    default_list.remove(element_to_delete)\n",
    "    print('default_list step2:', default_list)\n",
    "    print('DEFAULT_USER_COUNT-2:', DEFAULT_USER_COUNT-2)\n",
    "    print('FINISH')\n",
    "    print('')\n",
    "    return default_list[DEFAULT_USER_COUNT-2]\n",
    "\n",
    "delete_and_return_last_user(1) # ‘A101’ При однократном вызове этой функции все работает корректно\n",
    "delete_and_return_last_user(1)"
   ]
  },
  {
   "cell_type": "markdown",
   "metadata": {},
   "source": [
    "Ответ:\n",
    "    функция выдаёт второй с начала элемент списка в этой строчке: default_list[DEFAULT_USER_COUNT-2]\n",
    "    Так как на втором шаге список становится длины 1, то в нём нет второго элемента. \n",
    "Ошибка list index out of range означает, что индекс к которому пытаемся обратиться отсутсвует в списке.\n",
    "    "
   ]
  }
 ],
 "metadata": {
  "kernelspec": {
   "display_name": "Python 3",
   "language": "python",
   "name": "python3"
  },
  "language_info": {
   "codemirror_mode": {
    "name": "ipython",
    "version": 3
   },
   "file_extension": ".py",
   "mimetype": "text/x-python",
   "name": "python",
   "nbconvert_exporter": "python",
   "pygments_lexer": "ipython3",
   "version": "3.8.3"
  }
 },
 "nbformat": 4,
 "nbformat_minor": 4
}
